{
 "cells": [
  {
   "cell_type": "markdown",
   "id": "4c09b965",
   "metadata": {},
   "source": [
    "# Write a Python program that accepts a word from the user and reverse it."
   ]
  },
  {
   "cell_type": "markdown",
   "id": "db466520",
   "metadata": {},
   "source": [
    "---"
   ]
  },
  {
   "cell_type": "markdown",
   "id": "750ae6d6",
   "metadata": {},
   "source": [
    "## Using while loop"
   ]
  },
  {
   "cell_type": "markdown",
   "id": "e9812004",
   "metadata": {},
   "source": [
    "Input  : Edyoda"
   ]
  },
  {
   "cell_type": "markdown",
   "id": "c7e2488f",
   "metadata": {},
   "source": [
    "Outout : adoydE"
   ]
  },
  {
   "cell_type": "markdown",
   "id": "228f21e9",
   "metadata": {},
   "source": [
    "---"
   ]
  },
  {
   "cell_type": "code",
   "execution_count": 1,
   "id": "c15c218b",
   "metadata": {},
   "outputs": [
    {
     "name": "stdout",
     "output_type": "stream",
     "text": [
      "adoydE\n"
     ]
    }
   ],
   "source": [
    "n = 'Edyoda'\n",
    "output =''\n",
    "i = len(n)-1\n",
    "while i>=0:\n",
    "    output = output+n[i]\n",
    "    i = i-1\n",
    "print(output)"
   ]
  },
  {
   "cell_type": "markdown",
   "id": "fded9871",
   "metadata": {},
   "source": [
    "---"
   ]
  },
  {
   "cell_type": "code",
   "execution_count": 2,
   "id": "ae3196d6",
   "metadata": {},
   "outputs": [
    {
     "name": "stdout",
     "output_type": "stream",
     "text": [
      "ytisrevinU latigiD adoydE\n"
     ]
    }
   ],
   "source": [
    "n = 'Edyoda Digital University'\n",
    "output =''\n",
    "i = len(n)-1\n",
    "while i>=0:\n",
    "    output = output+n[i]\n",
    "    i = i-1\n",
    "print(output)"
   ]
  },
  {
   "cell_type": "code",
   "execution_count": null,
   "id": "6d60072d",
   "metadata": {},
   "outputs": [],
   "source": []
  }
 ],
 "metadata": {
  "kernelspec": {
   "display_name": "Python 3 (ipykernel)",
   "language": "python",
   "name": "python3"
  },
  "language_info": {
   "codemirror_mode": {
    "name": "ipython",
    "version": 3
   },
   "file_extension": ".py",
   "mimetype": "text/x-python",
   "name": "python",
   "nbconvert_exporter": "python",
   "pygments_lexer": "ipython3",
   "version": "3.9.0b2"
  }
 },
 "nbformat": 4,
 "nbformat_minor": 5
}
